{
 "cells": [
  {
   "cell_type": "code",
   "execution_count": 1,
   "metadata": {},
   "outputs": [],
   "source": [
    "# import the necessary packages\n",
    "import numpy as np\n",
    "import random\n",
    "import time\n",
    "import cv2\n",
    "import os"
   ]
  },
  {
   "cell_type": "code",
   "execution_count": 2,
   "metadata": {},
   "outputs": [],
   "source": [
    "# load the COCO class labels our Mask R-CNN was trained on\n",
    "labelsPath = r\"E:\\AI Practice Project\\cv\\basic project\\11-mask_rcnn\\object_detection_classes_coco.txt\"\n",
    "LABELS = open(labelsPath).read().strip().split(\"\\n\")\n",
    "\n",
    "# generate random color\n",
    "'''colorsPath = r\"E:\\AI Practice Project\\cv\\basic project\\11-mask_rcnn\\colors.txt\"\n",
    "COLORS = open(colorsPath).read().strip().split(\"\\n\")\n",
    "COLORS = [np.array(c.split(\",\")).astype(\"int\") for c in COLORS]\n",
    "COLORS = np.array(COLORS, dtype=\"uint8\")\n",
    "COLORS'''\n",
    "\n",
    "colors = np.random.randint(0, 255, (90, 3))\n"
   ]
  },
  {
   "cell_type": "code",
   "execution_count": 3,
   "metadata": {},
   "outputs": [],
   "source": [
    "# load mask-rcnn\n",
    "weightsPath = r\"E:\\AI Practice Project\\cv\\basic project\\11-mask_rcnn\\frozen_inference_graph.pb\"\n",
    "configPath = r\"E:\\AI Practice Project\\cv\\basic project\\11-mask_rcnn\\mask_rcnn_inception_v2_coco_2018_01_28.pbtxt\"\n",
    "                               \n",
    "net = cv2.dnn.readNetFromTensorflow(weightsPath, \n",
    "                                    configPath)"
   ]
  },
  {
   "cell_type": "code",
   "execution_count": 4,
   "metadata": {},
   "outputs": [
    {
     "name": "stdout",
     "output_type": "stream",
     "text": [
      "[INFO] Mask R-CNN took 3.057104 seconds\n",
      "[INFO] boxes shape: (1, 1, 100, 7)\n",
      "[INFO] masks shape: (100, 90, 15, 15)\n"
     ]
    }
   ],
   "source": [
    "image_path = r\"E:\\AI Practice Project\\cv\\basic project\\11-mask_rcnn\\bike.jpg\"\n",
    "image = cv2.imread(image_path)\n",
    "H, W = image.shape[:2]\n",
    "\n",
    "blob = cv2.dnn.blobFromImage(image, swapRB=True, crop=False)\n",
    "net.setInput(blob)\n",
    "start = time.time()\n",
    "# we need to access the last layers where we have the information\n",
    "(boxes, masks) = net.forward([\"detection_out_final\", \"detection_masks\"])\n",
    "end = time.time()\n",
    "\n",
    "# show timing information and volume information on Mask R-CNN\n",
    "print(\"[INFO] Mask R-CNN took {:.6f} seconds\".format(end - start))\n",
    "print(\"[INFO] boxes shape: {}\".format(boxes.shape))\n",
    "print(\"[INFO] masks shape: {}\".format(masks.shape))"
   ]
  },
  {
   "cell_type": "code",
   "execution_count": 7,
   "metadata": {},
   "outputs": [
    {
     "data": {
      "text/plain": [
       "-1"
      ]
     },
     "execution_count": 7,
     "metadata": {},
     "output_type": "execute_result"
    }
   ],
   "source": [
    "# loop over the number of detected objects\n",
    "for i in range(0, boxes.shape[2]):\n",
    "    \n",
    "    box = boxes[0,0,i]\n",
    "    classID = int(box[1])\n",
    "    confidence = box[2]\n",
    "\n",
    "    if confidence > 0.7:\n",
    "        # clone our original image so we can draw on it\n",
    "        clone = image.copy()\n",
    "\n",
    "        # scale the bounding box coordinates back relative to the\n",
    "        # size of the image and then compute the width and the height of the bounding box\n",
    "        box = boxes[0, 0, i, 3:7] * np.array([W, H, W, H])\n",
    "        (startX, startY, endX, endY) = box.astype(\"int\")\n",
    "        boxW = endX - startX\n",
    "        boxH = endY - startY\n",
    "\n",
    "        # mask (value of each pixel)\n",
    "        roi = image[startY:endY, startX:endX]\n",
    "        roi_height, roi_width = roi.shape[:2]\n",
    "\n",
    "        mask = masks[i, classID]\n",
    "        mask = cv2.resize(mask, (roi_height, roi_width))\n",
    "        _, mask = cv2.threshold(mask, 0.5, 255, cv2.THRESH_BINARY)\n",
    "\n",
    "        # get mask cordinates\n",
    "        contours, _ = cv2.findContours(np.array(mask, np.uint8), cv2.RETR_EXTERNAL, cv2.CHAIN_APPROX_SIMPLE)\n",
    "\n",
    "        color = colors[classID]\n",
    "        for cnt in contours:\n",
    "            cv2.fillPoly(roi, [cnt], (int(color[0]),int(color[1]),int(color[2])))\n",
    "\n",
    "        cv2.rectangle(image, (startX, startY), (endX, endY), (0,255,100), 2)\n",
    "\n",
    "        #mask = cv2.resize(mask, (boxW, boxH), interpolation=cv2.INTER_NEAREST)\n",
    "        #mask = (mask > 0.3) \n",
    "\n",
    "#cv2.imshow('image', roi)\n",
    "cv2.imshow('mask', image)\n",
    "cv2.waitKey(0)"
   ]
  }
 ],
 "metadata": {
  "kernelspec": {
   "display_name": "Python 3",
   "language": "python",
   "name": "python3"
  },
  "language_info": {
   "codemirror_mode": {
    "name": "ipython",
    "version": 3
   },
   "file_extension": ".py",
   "mimetype": "text/x-python",
   "name": "python",
   "nbconvert_exporter": "python",
   "pygments_lexer": "ipython3",
   "version": "3.9.6"
  },
  "orig_nbformat": 4
 },
 "nbformat": 4,
 "nbformat_minor": 2
}
