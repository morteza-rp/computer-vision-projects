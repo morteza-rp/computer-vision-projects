{
 "cells": [
  {
   "cell_type": "code",
   "execution_count": 1,
   "metadata": {},
   "outputs": [],
   "source": [
    "import numpy as np\n",
    "import cv2"
   ]
  },
  {
   "cell_type": "code",
   "execution_count": null,
   "metadata": {},
   "outputs": [],
   "source": [
    "cafe_prototxt_path = r\"E:\\AI Practice Project\\cv\\basic project\\Face detection with OpenCV\\weights-prototxt.txt\"\n",
    "Caffe_model_weight_path = r\"E:\\AI Practice Project\\cv\\basic project\\Face detection with OpenCV\\res_ssd_300Dim.caffeModel\"\n",
    "\n",
    "\n",
    "# load SSD and ResNet network based caffe model for 300x300 dim imgs\n",
    "net = cv2.dnn.readNetFromCaffe(cafe_prototxt_path, Caffe_model_weight_path)\n",
    "\n",
    "\n",
    "# load the input image and construct an input blob for the image\n",
    "# by resizing to a fixed 300x300 pixels and then normalizing it\n",
    "image = cv2.imread(r\"E:\\AI Practice Project\\cv\\basic project\\Face detection with OpenCV\\group2.jpg\")\n",
    "(h, w) = image.shape[:2]\n",
    "# use blob for preprocessing tasks  cv2.dnn.blobFromImage(image, scalefactor=1.0, size, mean, swapRB=True)\n",
    "blob = cv2.dnn.blobFromImage(cv2.resize(image, (300, 300)), 1.0, (300, 300), (104.0, 177.0, 123.0))\n",
    "\n",
    "# pass the blob into the network\n",
    "net.setInput(blob)\n",
    "detections = net.forward()\n",
    "\n",
    "\n",
    "# loop over the detections\n",
    "for i in range(0, detections.shape[2]):\n",
    "\t# extract the confidence (i.e., probability) associated with the prediction\n",
    "\tconfidence = detections[0, 0, i, 2]\n",
    "\t\n",
    "\t# filter out weak detections by ensuring the `confidence` is greater than the minimum confidence\n",
    "\tif confidence > 0.3:\n",
    "\t\t\n",
    "\t\t# compute the (x, y)-coordinates of the bounding box for the object\n",
    "\t\tbox = detections[0, 0, i, 3:7] * np.array([w, h, w, h])\n",
    "\t\t(startX, startY, endX, endY) = box.astype(\"int\")\n",
    " \n",
    "\t\t# draw the bounding box of the face along with the associated probability\n",
    "\t\ttext = f\"{confidence * 100:.2f}%\"\n",
    "\t\ty = startY - 10 if startY - 10 > 10 else startY + 10\n",
    "\n",
    "\t\tcv2.rectangle(image, (startX, startY), (endX, endY), (0, 0, 255), 1)\n",
    "\t\tcv2.putText(image, text, (startX, y), cv2.FONT_HERSHEY_SIMPLEX, 0.45, (0, 0, 255), 1)\n",
    "\t\t\n",
    "\n",
    "# show the output image\n",
    "cv2.imshow(\"Output\", image)\n",
    "cv2.waitKey(0)\n"
   ]
  },
  {
   "cell_type": "markdown",
   "metadata": {},
   "source": [
    "**video**"
   ]
  },
  {
   "cell_type": "code",
   "execution_count": null,
   "metadata": {},
   "outputs": [],
   "source": [
    "cap = cv2.VideoCapture(0)\n",
    "\n",
    "while True:\n",
    "    _, frame = cap.read()\n",
    "\n",
    "    cafe_prototxt_path = r\"E:\\AI Practice Project\\cv\\basic project\\Face detection with OpenCV\\weights-prototxt.txt\"\n",
    "    Caffe_model_weight_path = r\"E:\\AI Practice Project\\cv\\basic project\\Face detection with OpenCV\\res_ssd_300Dim.caffeModel\"\n",
    "\n",
    "\n",
    "    # load SSD and ResNet network based caffe model for 300x300 dim imgs\n",
    "    net = cv2.dnn.readNetFromCaffe(cafe_prototxt_path, Caffe_model_weight_path)\n",
    "\n",
    "\n",
    "    # load the input image and construct an input blob for the image\n",
    "    # by resizing to a fixed 300x300 pixels and then normalizing it\n",
    "    image = frame\n",
    "    (h, w) = image.shape[:2]\n",
    "    # use blob for preprocessing tasks  cv2.dnn.blobFromImage(image, scalefactor=1.0, size, mean, swapRB=True)\n",
    "    blob = cv2.dnn.blobFromImage(cv2.resize(image, (300, 300)), 1.0, (300, 300), (104.0, 177.0, 123.0))\n",
    "\n",
    "    # pass the blob into the network\n",
    "    net.setInput(blob)\n",
    "    detections = net.forward()\n",
    "\n",
    "\n",
    "    # loop over the detections\n",
    "    for i in range(0, detections.shape[2]):\n",
    "        # extract the confidence (i.e., probability) associated with the prediction\n",
    "        confidence = detections[0, 0, i, 2]\n",
    "        \n",
    "        # filter out weak detections by ensuring the `confidence` is greater than the minimum confidence\n",
    "        if confidence > 0.3:\n",
    "            \n",
    "            # compute the (x, y)-coordinates of the bounding box for the object\n",
    "            box = detections[0, 0, i, 3:7] * np.array([w, h, w, h])\n",
    "            (startX, startY, endX, endY) = box.astype(\"int\")\n",
    "    \n",
    "            # draw the bounding box of the face along with the associated probability\n",
    "            text = f\"{confidence * 100:.2f}%\"\n",
    "            y = startY - 10 if startY - 10 > 10 else startY + 10\n",
    "            cv2.rectangle(image, (startX, startY), (endX, endY),\n",
    "                (0, 0, 255), 2)\n",
    "            cv2.putText(image, text, (startX, y),\n",
    "                cv2.FONT_HERSHEY_SIMPLEX, 0.45, (0, 0, 255), 2)\n",
    "            \n",
    "\n",
    "    # show the output image\n",
    "    cv2.imshow(\"Output\", image)\n",
    "    if cv2.waitKey(27) & 0xFF == ord('q'):\n",
    "        break\n",
    "\n",
    "cap.release()\n",
    "cv2.destroyAllWindows()"
   ]
  },
  {
   "cell_type": "code",
   "execution_count": 50,
   "metadata": {},
   "outputs": [],
   "source": [
    "cap.release()\n",
    "cv2.destroyAllWindows()"
   ]
  },
  {
   "cell_type": "code",
   "execution_count": null,
   "metadata": {},
   "outputs": [],
   "source": []
  }
 ],
 "metadata": {
  "kernelspec": {
   "display_name": "venv7",
   "language": "python",
   "name": "python3"
  },
  "language_info": {
   "codemirror_mode": {
    "name": "ipython",
    "version": 3
   },
   "file_extension": ".py",
   "mimetype": "text/x-python",
   "name": "python",
   "nbconvert_exporter": "python",
   "pygments_lexer": "ipython3",
   "version": "3.9.6"
  },
  "orig_nbformat": 4
 },
 "nbformat": 4,
 "nbformat_minor": 2
}
