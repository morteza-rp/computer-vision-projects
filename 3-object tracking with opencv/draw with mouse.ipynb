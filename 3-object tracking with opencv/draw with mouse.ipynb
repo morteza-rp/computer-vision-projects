{
 "cells": [
  {
   "cell_type": "markdown",
   "metadata": {},
   "source": [
    "version 1"
   ]
  },
  {
   "cell_type": "code",
   "execution_count": 33,
   "metadata": {},
   "outputs": [],
   "source": [
    "import cv2\n",
    "import numpy as np\n",
    "\n",
    "\n",
    "# Create a function based on a CV2 Event (Left button click)\n",
    "drawing = False # True if mouse is pressed\n",
    "ix,iy = -1,-1\n",
    "\n",
    "# mouse callback function\n",
    "def draw_rectangle(event,x,y,flags,param):\n",
    "    global ix,iy,drawing,mode\n",
    "\n",
    "    if event == cv2.EVENT_LBUTTONDOWN:\n",
    "        # When you click DOWN with left mouse button drawing is set to True\n",
    "        drawing = True\n",
    "        # Then we take note of where that mouse was located\n",
    "        ix,iy = x,y\n",
    "\n",
    "    elif event == cv2.EVENT_MOUSEMOVE:\n",
    "        # Now the mouse is moving\n",
    "        if drawing == True:\n",
    "            # If drawing is True, it means you've already clicked on the left mouse button\n",
    "            # We draw a rectangle from the previous position to the x,y where the mouse is\n",
    "            cv2.rectangle(img,(ix,iy),(x,y),(0,255,0),-1)\n",
    "           \n",
    "\n",
    "    elif event == cv2.EVENT_LBUTTONUP:\n",
    "        # Once you lift the mouse button, drawing is False\n",
    "        drawing = False\n",
    "        # we complete the rectangle.\n",
    "        cv2.rectangle(img,(ix,iy),(x,y),(0,255,0),-1)\n",
    "        \n",
    "        \n",
    "\n",
    "# Create a black image\n",
    "img = np.zeros((512,512,3), np.uint8)\n",
    "# This names the window so we can reference it \n",
    "cv2.namedWindow(winname='my_drawing')\n",
    "# Connects the mouse button to our callback function\n",
    "cv2.setMouseCallback('my_drawing',draw_rectangle)\n",
    "\n",
    "while True: #Runs forever until we break with Esc key on keyboard\n",
    "    # Shows the image window\n",
    "    cv2.imshow('my_drawing',img)\n",
    "    # EXPLANATION FOR THIS LINE OF CODE:\n",
    "    # https://stackoverflow.com/questions/35372700/whats-0xff-for-in-cv2-waitkey1/39201163\n",
    "    \n",
    "    # CHECK TO SEE IF ESC WAS PRESSED ON KEYBOARD\n",
    "    if cv2.waitKey(1) & 0xFF == 27:\n",
    "        break\n",
    "# Once script is done, its usually good practice to call this line\n",
    "# It closes all windows (just in case you have multiple windows called)\n",
    "cv2.destroyAllWindows()"
   ]
  },
  {
   "cell_type": "markdown",
   "metadata": {},
   "source": [
    "version 2"
   ]
  },
  {
   "cell_type": "code",
   "execution_count": 44,
   "metadata": {},
   "outputs": [],
   "source": [
    "import cv2\n",
    "import numpy as np\n",
    "img = np.zeros((512,512,3), np.uint8)\n",
    "#img2 = cv2.imread(\"flower.jpg\")\n",
    "\n",
    "# variables\n",
    "ix = -1\n",
    "iy = -1\n",
    "drawing = False\n",
    "\n",
    "def draw_reactangle_with_drag(event, x, y, flags, param):\n",
    "    global ix, iy, drawing, img\n",
    "    if event == cv2.EVENT_LBUTTONDOWN:\n",
    "        drawing = True\n",
    "        ix = x\n",
    "        iy = y\n",
    "\n",
    "\n",
    "    elif event == cv2.EVENT_MOUSEMOVE:\n",
    "        if drawing == True:\n",
    "            img2 = np.zeros((512,512,3), np.uint8)\n",
    "            cv2.rectangle(img2, pt1=(ix,iy), pt2=(x, y),color=(0,255,255),thickness=10)\n",
    "            img = img2\n",
    "\n",
    "    elif event == cv2.EVENT_LBUTTONUP:\n",
    "        drawing = False\n",
    "        img2 = np.zeros((512,512,3), np.uint8)\n",
    "        cv2.rectangle(img2, pt1=(ix,iy), pt2=(x, y),color=(0,255,255),thickness=10)\n",
    "        img = img2\n",
    "\n",
    "cv2.namedWindow(winname= \"Title of Popup Window\")\n",
    "cv2.setMouseCallback(\"Title of Popup Window\", draw_reactangle_with_drag)\n",
    "\n",
    "while True:\n",
    "    cv2.imshow(\"Title of Popup Window\", img)\n",
    "    if cv2.waitKey(10) == 27:\n",
    "        break\n",
    "cv2.destroyAllWindows()"
   ]
  }
 ],
 "metadata": {
  "kernelspec": {
   "display_name": "Python 3",
   "language": "python",
   "name": "python3"
  },
  "language_info": {
   "codemirror_mode": {
    "name": "ipython",
    "version": 3
   },
   "file_extension": ".py",
   "mimetype": "text/x-python",
   "name": "python",
   "nbconvert_exporter": "python",
   "pygments_lexer": "ipython3",
   "version": "3.9.6"
  },
  "orig_nbformat": 4
 },
 "nbformat": 4,
 "nbformat_minor": 2
}
