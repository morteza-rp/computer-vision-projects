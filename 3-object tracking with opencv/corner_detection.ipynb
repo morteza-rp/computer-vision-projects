{
 "cells": [
  {
   "cell_type": "code",
   "execution_count": 50,
   "metadata": {},
   "outputs": [],
   "source": [
    "import cv2\n",
    "import numpy as np\n",
    "import matplotlib.pyplot as plt"
   ]
  },
  {
   "cell_type": "code",
   "execution_count": 77,
   "metadata": {},
   "outputs": [],
   "source": [
    "# Harris algorithm\n",
    "\n",
    "flat_chess = cv2.imread(r\"E:\\AI Practice Project\\cv\\basic project\\flat chess.jpg\")\n",
    "gray = cv2.cvtColor(flat_chess, cv2.COLOR_BGR2GRAY)\n",
    "gray = np.float32(gray)\n",
    "\n",
    "cornerHarris = cv2.cornerHarris(gray, blockSize=2, ksize=3, k=0.04)\n",
    "dilate = cv2.dilate(cornerHarris, None)\n",
    "\n",
    "# gray_rgb = np.stack((gray, gray, gray), axis=-1)\n",
    "\n",
    "flat_chess[cornerHarris > 0.01 * cornerHarris.max()] = [0,0,255]"
   ]
  },
  {
   "cell_type": "code",
   "execution_count": 78,
   "metadata": {},
   "outputs": [],
   "source": [
    "cv2.imshow('corners', flat_chess)\n",
    "\n",
    "cv2.waitKey(0)\n",
    "cv2.destroyAllWindows()"
   ]
  },
  {
   "cell_type": "code",
   "execution_count": 121,
   "metadata": {},
   "outputs": [],
   "source": [
    "# shi_tomasi algorithm\n",
    "\n",
    "flat_chess2 = cv2.imread(r\"E:\\AI Practice Project\\cv\\basic project\\flat chess.jpg\")\n",
    "gray2 = cv2.cvtColor(flat_chess2, cv2.COLOR_BGR2GRAY)\n",
    "\n",
    "corners = cv2.goodFeaturesToTrack(gray2, 64, 0.01, 10)\n",
    "corners = np.int0(corners)\n",
    "for i in corners:\n",
    "    #x,y = i.ravel()\n",
    "    cv2.circle(flat_chess2, (i[0][0], i[0][1]),3,(0,0,255),-1)\n",
    "    "
   ]
  },
  {
   "cell_type": "code",
   "execution_count": 122,
   "metadata": {},
   "outputs": [],
   "source": [
    "cv2.imshow('corners', flat_chess2)\n",
    "\n",
    "cv2.waitKey(0)\n",
    "cv2.destroyAllWindows()"
   ]
  }
 ],
 "metadata": {
  "kernelspec": {
   "display_name": "Python 3",
   "language": "python",
   "name": "python3"
  },
  "language_info": {
   "codemirror_mode": {
    "name": "ipython",
    "version": 3
   },
   "file_extension": ".py",
   "mimetype": "text/x-python",
   "name": "python",
   "nbconvert_exporter": "python",
   "pygments_lexer": "ipython3",
   "version": "3.9.6"
  },
  "orig_nbformat": 4
 },
 "nbformat": 4,
 "nbformat_minor": 2
}
