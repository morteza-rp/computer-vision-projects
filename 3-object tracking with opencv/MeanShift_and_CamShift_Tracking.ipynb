{
 "cells": [
  {
   "cell_type": "markdown",
   "metadata": {},
   "source": [
    "**meanshift**"
   ]
  },
  {
   "cell_type": "code",
   "execution_count": 8,
   "metadata": {},
   "outputs": [],
   "source": [
    "import numpy as np\n",
    "import cv2\n",
    "\n",
    "cap = cv2.VideoCapture(0)\n",
    "ret, frame = cap.read()\n",
    "\n",
    "# setup initial location of window\n",
    "face_cascade = cv2.CascadeClassifier(\"E:\\AI Learning\\opencv course\\haarcascade_frontalface_default.xml\")\n",
    "face_rects = face_cascade.detectMultiScale(frame)\n",
    "\n",
    "(x,y,w,h) = tuple(face_rects[0])\n",
    "track_window = (x,y,w,h)\n",
    "\n",
    "# set up the ROI for tracking\n",
    "roi = frame[y:y+h, x:x+w]\n",
    "hsv_roi = cv2.cvtColor(roi, cv2.COLOR_BGR2HSV)\n",
    "roi_histogram = cv2.calcHist([hsv_roi], [0], None, [180], [0,180])\n",
    "cv2.normalize(roi_histogram, roi_histogram, 0, 255, cv2.NORM_MINMAX)\n",
    "\n",
    "criteria = (cv2.TermCriteria_EPS | cv2.TermCriteria_COUNT , 10, 1)\n",
    "\n",
    "\n",
    "while True:\n",
    "    ret, frame = cap.read()\n",
    "\n",
    "\n",
    "    hsv = cv2.cvtColor(frame, cv2.COLOR_BGR2HSV)\n",
    "    dst = cv2.calcBackProject([hsv], [0], roi_histogram, [0, 180], 1)\n",
    "\n",
    "    # apply meanshift to get the new location\n",
    "    ret, track_window = cv2.meanShift(dst, track_window, criteria)\n",
    "\n",
    "    # Draw it on image\n",
    "    x,y,w,h = track_window\n",
    "    img2 = cv2.rectangle(frame, (x,y), (x+w,y+h), 255,2)\n",
    "    cv2.imshow('img2',img2)\n",
    "\n",
    "    key = cv2.waitKey(30) & 0xff\n",
    "    if key == 27:\n",
    "        break\n",
    "\n",
    "\n",
    "cap.release()\n",
    "cv2.destroyAllWindows()"
   ]
  },
  {
   "cell_type": "markdown",
   "metadata": {},
   "source": [
    "**camshift**"
   ]
  },
  {
   "cell_type": "code",
   "execution_count": 17,
   "metadata": {},
   "outputs": [],
   "source": [
    "import numpy as np\n",
    "import cv2\n",
    "\n",
    "cap = cv2.VideoCapture(0)\n",
    "ret, frame = cap.read()\n",
    "\n",
    "# setup initial location of window\n",
    "face_cascade = cv2.CascadeClassifier(\"E:\\AI Learning\\opencv course\\haarcascade_frontalface_default.xml\")\n",
    "face_rects = face_cascade.detectMultiScale(frame)\n",
    "\n",
    "(x,y,w,h) = tuple(face_rects[0])\n",
    "track_window = (x,y,w,h)\n",
    "\n",
    "# set up the ROI for tracking\n",
    "roi = frame[y:y+h, x:x+w]\n",
    "hsv_roi = cv2.cvtColor(roi, cv2.COLOR_BGR2HSV)\n",
    "roi_histogram = cv2.calcHist([hsv_roi], [0], None, [180], [0,180])\n",
    "cv2.normalize(roi_histogram, roi_histogram, 0, 255, cv2.NORM_MINMAX)\n",
    "\n",
    "criteria = (cv2.TermCriteria_EPS | cv2.TermCriteria_COUNT , 10, 1)\n",
    "\n",
    "\n",
    "while True:\n",
    "    ret, frame = cap.read()\n",
    "\n",
    "    if ret == True:\n",
    "        hsv = cv2.cvtColor(frame, cv2.COLOR_BGR2HSV)\n",
    "        dst = cv2.calcBackProject([hsv], [0], roi_histogram, [0, 180], 1)\n",
    "\n",
    "        # apply camshift to get the new location\n",
    "        ret, track_window = cv2.CamShift(dst, track_window, criteria)\n",
    "        \n",
    "        # Draw it on image\n",
    "        points = np.int0(cv2.boxPoints(ret))\n",
    "        img2 = cv2.polylines(frame, [points], True, (0,255,0), 2)\n",
    "        cv2.imshow('img2',img2)\n",
    "\n",
    "        key = cv2.waitKey(30) & 0xff\n",
    "        if key == 27:\n",
    "            break\n",
    "    else:\n",
    "        break\n",
    "\n",
    "\n",
    "cap.release()\n",
    "cv2.destroyAllWindows()"
   ]
  },
  {
   "cell_type": "code",
   "execution_count": null,
   "metadata": {},
   "outputs": [],
   "source": []
  }
 ],
 "metadata": {
  "kernelspec": {
   "display_name": "Python 3",
   "language": "python",
   "name": "python3"
  },
  "language_info": {
   "codemirror_mode": {
    "name": "ipython",
    "version": 3
   },
   "file_extension": ".py",
   "mimetype": "text/x-python",
   "name": "python",
   "nbconvert_exporter": "python",
   "pygments_lexer": "ipython3",
   "version": "3.9.6"
  },
  "orig_nbformat": 4
 },
 "nbformat": 4,
 "nbformat_minor": 2
}
