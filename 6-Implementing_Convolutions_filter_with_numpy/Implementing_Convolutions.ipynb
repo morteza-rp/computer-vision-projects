{
 "cells": [
  {
   "cell_type": "markdown",
   "metadata": {},
   "source": [
    "### conv gray"
   ]
  },
  {
   "cell_type": "code",
   "execution_count": 190,
   "metadata": {},
   "outputs": [],
   "source": [
    "from skimage.exposure import rescale_intensity\n",
    "import numpy as np\n",
    "import cv2\n",
    "import os\n",
    "import glob\n",
    "\n",
    "\n",
    "def convolve_2d(image, kernel):\n",
    "    (ih, iw) = image.shape\n",
    "    (kh, kw) = kernel.shape\n",
    "\n",
    "    # \"pad\" the borders of the input image\n",
    "    pad = (kh-1)//2\n",
    "    image = cv2.copyMakeBorder(image, pad, pad, pad, pad, cv2.BORDER_REPLICATE)\n",
    "    output = np.zeros((ih, iw), dtype=\"float32\")\n",
    "\n",
    "    # loop over the input image, \"sliding\" the kernel across\n",
    "    # each (x, y)-coordinate from left-to-right and top to\n",
    "    # bottom\n",
    "    for y in np.arange(pad, ih + pad):\n",
    "         for x in np.arange(pad, iw + pad):\n",
    "            # extract the ROI of the image by extracting the\n",
    "            # *center* region of the current (x, y)-coordinates\n",
    "            # dimensions\n",
    "            roi = image[y - pad:y + pad + 1, x - pad:x + pad + 1]\n",
    "            # perform the actual convolution by taking the\n",
    "            # element-wise multiplicate between the ROI and\n",
    "            # the kernel, then summing the matrix\n",
    "            k = (roi * kernel).sum()\n",
    "            # store the convolved value in the output (x,y)-\n",
    "            # coordinate of the output image\n",
    "            output[y - pad, x - pad] = k\n",
    "\n",
    "    # rescale the output image to be in the range [0, 255]\n",
    "    output = rescale_intensity(output, in_range=(0, 255))\n",
    "    output = (output * 255).astype(\"uint8\")\n",
    "    # return the output image\n",
    "    return output"
   ]
  },
  {
   "cell_type": "code",
   "execution_count": 191,
   "metadata": {},
   "outputs": [],
   "source": [
    "# construct a sharpening filter\n",
    "sharpen = np.array((\n",
    "    [0, -1, 0],\n",
    "    [-1, 5, -1],\n",
    "    [0, -1, 0]), dtype=\"int\")\n",
    "\n",
    "\n",
    "image = cv2.imread(r\"E:\\AI Practice Project\\cv\\basic project\\2-Face detection with OpenCV-ssd-caffe\\group2.jpg\")\n",
    "gray = cv2.cvtColor(image, cv2.COLOR_BGR2GRAY)\n",
    "\n",
    "convoleOutput_2d = convolve_2d(gray, kernel= sharpen)\n",
    "\n",
    "\n",
    "cv2.imshow('conv', convoleOutput_2d)\n",
    "cv2.waitKey(0)\n",
    "cv2.destroyAllWindows()\n"
   ]
  },
  {
   "cell_type": "code",
   "execution_count": null,
   "metadata": {},
   "outputs": [],
   "source": []
  },
  {
   "cell_type": "markdown",
   "metadata": {},
   "source": [
    "### conv rgb"
   ]
  },
  {
   "cell_type": "code",
   "execution_count": 200,
   "metadata": {},
   "outputs": [],
   "source": [
    "import numpy as np\n",
    "import cv2\n",
    "from PIL import Image\n",
    "\n",
    "\n",
    "'''\n",
    "I would like to give an insight into my approach :\n",
    "\n",
    "1-The red, blue, and green pixels are separated into different arrays.\n",
    "2-Employ the process of convolution individually to each of the streams.\n",
    "3-This results in 3 arrays to which convolution has been applied.\n",
    "4-Combine the three arrays and convert the RGB values into an image.\n",
    "\n",
    "'''\n",
    "\n",
    "image = cv2.imread(r\"E:\\AI Practice Project\\cv\\basic project\\2-Face detection with OpenCV-ssd-caffe\\group2.jpg\")\n",
    "height = image.shape[0]\n",
    "weight = image.shape[1]\n",
    "\n",
    "b = image[:,:,0]\n",
    "g = image[:,:,1]\n",
    "r = image[:,:,2]\n",
    "\n",
    "\n",
    "# blur kernel\n",
    "kernel = np.array([0.11,0.11,0.11,0.11,0.11,0.11,0.11,0.11,0.11]).reshape(3,3)\n",
    "\n",
    "def convolute(image, height, weight, kernel):\n",
    "    convoluted_matrix = []\n",
    "    for i in range(1, height-2):\n",
    "        for j in range(1, weight-2):\n",
    "            roi = image[i:i+3, j:j+3]\n",
    "            prod = np.multiply(roi, kernel)\n",
    "            convoluted_matrix.append(np.sum(prod))\n",
    "\n",
    "    convoluted_matrix = np.array(convoluted_matrix).reshape(height-3, weight-3)\n",
    "    return convoluted_matrix\n",
    "\n",
    "\n",
    "b_convol = convolute(b, height, weight, kernel)\n",
    "g_convol = convolute(g, height, weight, kernel)\n",
    "r_convol = convolute(r, height, weight, kernel)\n",
    "\n",
    "height = height - 3\n",
    "weight = weight - 3\n",
    "\n",
    "combine = np.zeros([height, weight, 3], dtype=np.uint8)\n",
    "\n",
    "for i in range(height):\n",
    "    for j in range(weight):\n",
    "\n",
    "        combine[i, j] = [int(b_convol[i,j]), int(g_convol[i,j]), int(r_convol[i,j])]\n",
    "\n",
    "#from PIL import Image\n",
    "#img = Image.fromarray(combine)\n",
    "\n",
    "\n",
    "\n"
   ]
  },
  {
   "cell_type": "code",
   "execution_count": 208,
   "metadata": {},
   "outputs": [],
   "source": [
    "\n",
    "cv2.imshow('conv_rgb_blur', combine)\n",
    "cv2.imshow('original', image)\n",
    "\n",
    "cv2.waitKey(0)\n",
    "cv2.destroyAllWindows()\n"
   ]
  },
  {
   "cell_type": "code",
   "execution_count": null,
   "metadata": {},
   "outputs": [],
   "source": []
  }
 ],
 "metadata": {
  "kernelspec": {
   "display_name": "Python 3",
   "language": "python",
   "name": "python3"
  },
  "language_info": {
   "codemirror_mode": {
    "name": "ipython",
    "version": 3
   },
   "file_extension": ".py",
   "mimetype": "text/x-python",
   "name": "python",
   "nbconvert_exporter": "python",
   "pygments_lexer": "ipython3",
   "version": "3.9.6"
  },
  "orig_nbformat": 4
 },
 "nbformat": 4,
 "nbformat_minor": 2
}
